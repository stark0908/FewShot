{
 "cells": [
  {
   "cell_type": "code",
   "execution_count": 1,
   "id": "73ca085a",
   "metadata": {},
   "outputs": [
    {
     "name": "stdout",
     "output_type": "stream",
     "text": [
      "PyTorch sees 8 GPUs\n"
     ]
    }
   ],
   "source": [
    "import torch\n",
    "print(\"PyTorch sees\", torch.cuda.device_count(), \"GPUs\")\n"
   ]
  },
  {
   "cell_type": "code",
   "execution_count": null,
   "id": "b5ee91f6",
   "metadata": {},
   "outputs": [
    {
     "name": "stdout",
     "output_type": "stream",
     "text": [
      "CPU cores available: 80\n"
     ]
    }
   ],
   "source": [
    "import os\n",
    "print(\"CPU cores available:\", os.cpu_count())\n"
   ]
  },
  {
   "cell_type": "code",
   "execution_count": 3,
   "id": "c6624c5d",
   "metadata": {},
   "outputs": [],
   "source": [
    "import torchvision\n",
    "import torch\n",
    "import os\n",
    "import random\n",
    "import torch.nn as nn\n",
    "from torchvision import datasets, transforms\n",
    "from torch.utils.data import DataLoader\n"
   ]
  },
  {
   "cell_type": "code",
   "execution_count": 4,
   "id": "4ad8488f",
   "metadata": {},
   "outputs": [],
   "source": [
    "from torchvision.datasets.utils import download_and_extract_archive\n",
    "from torchvision.datasets.folder import ImageFolder"
   ]
  },
  {
   "cell_type": "code",
   "execution_count": 5,
   "id": "5da86ca5",
   "metadata": {},
   "outputs": [],
   "source": [
    "data_transform=transforms.Compose([\n",
    "    transforms.Resize((224,224)),\n",
    "    transforms.ToTensor(),\n",
    "    transforms.Normalize(mean=[0.485,0.456,0.406],\n",
    "                         std=[0.229,0.224,0.225])\n",
    "])"
   ]
  },
  {
   "cell_type": "code",
   "execution_count": 6,
   "id": "223056ad",
   "metadata": {},
   "outputs": [],
   "source": [
    "if not os.path.exists(\"/home/23dcs505/data/2750\"):\n",
    "    print(\"No dataset found\")\n",
    "fulldata=ImageFolder(root='/home/23dcs505/data/2750', transform=data_transform)\n"
   ]
  },
  {
   "cell_type": "code",
   "execution_count": 7,
   "id": "07a019bc",
   "metadata": {},
   "outputs": [],
   "source": [
    "from torch.utils.data import random_split\n",
    "\n",
    "train_len=int((0.8)*len(fulldata))\n",
    "test_len=len(fulldata)-(train_len)\n",
    "\n",
    "train_data_set,test_data_set= random_split(fulldata,[train_len, test_len])"
   ]
  },
  {
   "cell_type": "code",
   "execution_count": 8,
   "id": "d1075bc7",
   "metadata": {},
   "outputs": [],
   "source": [
    "all_list=[0,1,2,3,4,5,6,7,8,9]"
   ]
  },
  {
   "cell_type": "code",
   "execution_count": 9,
   "id": "7d2c4065",
   "metadata": {},
   "outputs": [],
   "source": [
    "train_class_len=5"
   ]
  },
  {
   "cell_type": "code",
   "execution_count": 10,
   "id": "9eb9e835",
   "metadata": {},
   "outputs": [],
   "source": [
    "train_list=random.sample(all_list,train_class_len)\n",
    "test_list=list(range(0,10))\n",
    "strict_test_list=list(set(all_list) - set(train_list))\n"
   ]
  },
  {
   "cell_type": "code",
   "execution_count": 11,
   "id": "dec17bec",
   "metadata": {},
   "outputs": [
    {
     "name": "stdout",
     "output_type": "stream",
     "text": [
      "[4, 0, 5, 6, 3]\n",
      "[0, 1, 2, 3, 4, 5, 6, 7, 8, 9]\n",
      "[1, 2, 7, 8, 9]\n"
     ]
    }
   ],
   "source": [
    "print(train_list)\n",
    "print(test_list)\n",
    "print(strict_test_list)"
   ]
  },
  {
   "cell_type": "code",
   "execution_count": 12,
   "id": "43fe318f",
   "metadata": {},
   "outputs": [],
   "source": [
    "ways=5\n",
    "shots=20\n",
    "queries=5\n",
    "strict_ways=len(strict_test_list)"
   ]
  },
  {
   "cell_type": "code",
   "execution_count": 13,
   "id": "2ea19459",
   "metadata": {},
   "outputs": [],
   "source": [
    "from torch.utils.data import Subset"
   ]
  },
  {
   "cell_type": "code",
   "execution_count": 14,
   "id": "e1639b2b",
   "metadata": {},
   "outputs": [
    {
     "data": {
      "text/plain": [
       "20789"
      ]
     },
     "execution_count": 14,
     "metadata": {},
     "output_type": "execute_result"
    }
   ],
   "source": [
    "train_data_set.indices[0]"
   ]
  },
  {
   "cell_type": "code",
   "execution_count": 15,
   "id": "be71adb7",
   "metadata": {},
   "outputs": [],
   "source": [
    "def class_sorting(dataset, class_list):\n",
    "    targets = dataset.dataset.targets\n",
    "\n",
    "    indices= [i for i in dataset.indices if targets[i] in class_list]\n",
    "    return Subset(dataset.dataset, indices)\n",
    "    "
   ]
  },
  {
   "cell_type": "code",
   "execution_count": 16,
   "id": "1c9800fa",
   "metadata": {},
   "outputs": [],
   "source": [
    "train_data=class_sorting(train_data_set,train_list)\n",
    "test_data=class_sorting(test_data_set,test_list)\n",
    "strict_test_data=class_sorting(test_data,strict_test_list)"
   ]
  },
  {
   "cell_type": "code",
   "execution_count": 17,
   "id": "ced87a0a",
   "metadata": {},
   "outputs": [
    {
     "data": {
      "text/plain": [
       "(tensor([[[0.5022, 0.5022, 0.5022,  ..., 0.4166, 0.3823, 0.3823],\n",
       "          [0.5022, 0.5022, 0.5022,  ..., 0.4166, 0.3823, 0.3823],\n",
       "          [0.5193, 0.5193, 0.5193,  ..., 0.4166, 0.3823, 0.3823],\n",
       "          ...,\n",
       "          [1.1529, 1.1529, 1.1358,  ..., 0.7419, 0.6734, 0.6734],\n",
       "          [1.0331, 1.0331, 1.0159,  ..., 0.7591, 0.6906, 0.6906],\n",
       "          [1.0331, 1.0331, 1.0159,  ..., 0.7591, 0.6906, 0.6906]],\n",
       " \n",
       "         [[0.6429, 0.6429, 0.6429,  ..., 0.1877, 0.1702, 0.1702],\n",
       "          [0.6429, 0.6429, 0.6429,  ..., 0.1877, 0.1702, 0.1702],\n",
       "          [0.6429, 0.6429, 0.6429,  ..., 0.1877, 0.1702, 0.1702],\n",
       "          ...,\n",
       "          [1.0630, 1.0630, 1.0630,  ..., 0.7304, 0.6779, 0.6779],\n",
       "          [0.9580, 0.9580, 0.9580,  ..., 0.7479, 0.6779, 0.6779],\n",
       "          [0.9580, 0.9580, 0.9580,  ..., 0.7479, 0.6779, 0.6779]],\n",
       " \n",
       "         [[0.8622, 0.8622, 0.8622,  ..., 0.2871, 0.2696, 0.2696],\n",
       "          [0.8622, 0.8622, 0.8622,  ..., 0.2871, 0.2696, 0.2696],\n",
       "          [0.8622, 0.8622, 0.8622,  ..., 0.2871, 0.2696, 0.2696],\n",
       "          ...,\n",
       "          [1.1237, 1.1237, 1.1411,  ..., 1.0539, 0.9842, 0.9842],\n",
       "          [1.0191, 1.0191, 1.0365,  ..., 1.0539, 0.9842, 0.9842],\n",
       "          [1.0191, 1.0191, 1.0365,  ..., 1.0539, 0.9842, 0.9842]]]),\n",
       " 4)"
      ]
     },
     "execution_count": 17,
     "metadata": {},
     "output_type": "execute_result"
    }
   ],
   "source": [
    "train_data[0]"
   ]
  },
  {
   "cell_type": "code",
   "execution_count": 18,
   "id": "f7951d44",
   "metadata": {},
   "outputs": [
    {
     "data": {
      "text/plain": [
       "Dataset ImageFolder\n",
       "    Number of datapoints: 27000\n",
       "    Root location: /home/23dcs505/data/2750\n",
       "    StandardTransform\n",
       "Transform: Compose(\n",
       "               Resize(size=(224, 224), interpolation=bilinear, max_size=None, antialias=None)\n",
       "               ToTensor()\n",
       "               Normalize(mean=[0.485, 0.456, 0.406], std=[0.229, 0.224, 0.225])\n",
       "           )"
      ]
     },
     "execution_count": 18,
     "metadata": {},
     "output_type": "execute_result"
    }
   ],
   "source": [
    "\n",
    "train_data.dataset"
   ]
  },
  {
   "cell_type": "code",
   "execution_count": 19,
   "id": "9314ea94",
   "metadata": {},
   "outputs": [
    {
     "data": {
      "text/plain": [
       "12072"
      ]
     },
     "execution_count": 19,
     "metadata": {},
     "output_type": "execute_result"
    }
   ],
   "source": [
    "train_data.indices[0]"
   ]
  },
  {
   "cell_type": "code",
   "execution_count": 20,
   "id": "35037a79",
   "metadata": {},
   "outputs": [],
   "source": [
    "from torch.utils.data import Dataset\n",
    "\n",
    "class create_dataset(Dataset):\n",
    "    def __init__(self,data,way,shot,query,episode):\n",
    "        super().__init__()\n",
    "        self.data=data\n",
    "        self.way=way\n",
    "        self.shot=shot\n",
    "        self.query=query\n",
    "        self.episode=episode\n",
    "\n",
    "        self.class_to_indices=self._build_class_index()\n",
    "        self.classes=list(self.class_to_indices.keys())\n",
    "        \n",
    "\n",
    "    def _build_class_index(self):\n",
    "        class_index={}\n",
    "\n",
    "        targets=self.data.dataset.targets\n",
    "\n",
    "        labels = [self.data.dataset.targets[i] for i in self.data.indices]\n",
    "        \n",
    "\n",
    "\n",
    "        for indexofsubset, indexoforiginal in enumerate(self.data.indices):\n",
    "            label=targets[indexoforiginal]\n",
    "            if label not in class_index:\n",
    "                class_index[label]=[]\n",
    "            class_index[label].append(indexofsubset)\n",
    "\n",
    "        return class_index\n",
    "        \n",
    "    def __len__(self):\n",
    "            return self.episode\n",
    "        \n",
    "    def __getitem__(self, idx):\n",
    "        #print('hello')\n",
    "\n",
    "        #print(f\"Total available classes: {len(self.classes)}, requested way: {self.way}\")\n",
    "\n",
    "\n",
    "        selected_class=random.sample(self.classes,self.way)\n",
    "\n",
    "        support_images, support_labels=[],[]\n",
    "        query_images, query_labels=[],[]\n",
    "\n",
    "\n",
    "        label_map={class_name: i for i, class_name in enumerate(selected_class)}\n",
    "\n",
    "        for class_name in selected_class:\n",
    "            all_indices_for_class=self.class_to_indices[class_name]\n",
    "\n",
    "            selected_index=random.sample(all_indices_for_class,self.shot+self.query)\n",
    "\n",
    "            support_index=selected_index[:self.shot]\n",
    "            query_index=selected_index[self.shot:]\n",
    "\n",
    "            for i in support_index:\n",
    "                image,_=self.data[i]\n",
    "                support_images.append(image)\n",
    "                support_labels.append(torch.tensor(label_map[class_name]))\n",
    "                \n",
    "            for i in query_index:\n",
    "                image,_=self.data[i]\n",
    "                query_images.append(image)\n",
    "                query_labels.append(torch.tensor(label_map[class_name]))\n",
    "            \n",
    "        return(\n",
    "            torch.stack(support_images),\n",
    "            torch.stack(support_labels),\n",
    "            torch.stack(query_images),\n",
    "            torch.stack(query_labels)\n",
    "        )"
   ]
  },
  {
   "cell_type": "code",
   "execution_count": 21,
   "id": "c4451cbc",
   "metadata": {},
   "outputs": [],
   "source": [
    "def compute_prototypes(support_embeddings,support_labels,way):\n",
    "    embedding_dimensions=support_embeddings.size(-1)\n",
    "    prototypes=torch.zeros(way,embedding_dimensions).to(support_embeddings.device)\n",
    "\n",
    "    for c in range(way):\n",
    "        class_mask=(support_labels==c)\n",
    "        class_embeddings=support_embeddings[class_mask]\n",
    "        prototypes[c]=class_embeddings.mean(dim=0)\n",
    "    return prototypes\n",
    "\n",
    "def classify_queries(prototypes,query_embeddings):\n",
    "    n_query=query_embeddings.size(0)\n",
    "    way=prototypes.size(0)\n",
    "\n",
    "    query_exp=query_embeddings.unsqueeze(1).expand(n_query,way,-1)\n",
    "    prototypes_exp=prototypes.unsqueeze(0).expand(n_query,way,-1)\n",
    "\n",
    "    distances=torch.sum((query_exp-prototypes_exp)**2,dim=2)\n",
    "\n",
    "    logits=-distances\n",
    "    return logits\n"
   ]
  },
  {
   "cell_type": "code",
   "execution_count": 22,
   "id": "775c60ee",
   "metadata": {},
   "outputs": [],
   "source": [
    "import torch.optim as optim\n",
    "\n",
    "few_dataset=create_dataset(\n",
    "    data=train_data,\n",
    "    way=ways,\n",
    "    shot=shots,\n",
    "    query=queries,\n",
    "    episode=200\n",
    ")"
   ]
  },
  {
   "cell_type": "code",
   "execution_count": 23,
   "id": "04e9bf6f",
   "metadata": {},
   "outputs": [],
   "source": [
    "few_dataloader=DataLoader(\n",
    "    few_dataset,\n",
    "    #batch_size=1,\n",
    "    shuffle=True,\n",
    "    num_workers=8, \n",
    "    pin_memory=True\n",
    ")"
   ]
  },
  {
   "cell_type": "code",
   "execution_count": 24,
   "id": "e85f9116",
   "metadata": {},
   "outputs": [],
   "source": [
    "import torchvision.models as models\n",
    "vgg=models.vgg16(pretrained=True)"
   ]
  },
  {
   "cell_type": "code",
   "execution_count": 25,
   "id": "ffd51202",
   "metadata": {},
   "outputs": [],
   "source": [
    "class VGGEmbedding(nn.Module):\n",
    "    def __init__(self):\n",
    "        super().__init__()\n",
    "\n",
    "\n",
    "        # ##Code from the paper\n",
    "        # features_list = list(vgg.features.children())\n",
    "        # # Insert DropBlock after MaxPool at index 16\n",
    "        # features_list.insert(17, DropBlock2D(block_size=block_size, drop_prob=drop_prob))\n",
    "        # # Insert DropBlock after MaxPool at index 23 (now 24 due to previous insertion)\n",
    "        # features_list.insert(24, DropBlock2D(block_size=block_size, drop_prob=drop_prob))\n",
    "        # ##END\n",
    "\n",
    "\n",
    "        self.features=vgg.features\n",
    "        self.avgpool=vgg.avgpool\n",
    "\n",
    "        self.classifier=nn.Sequential(*list(vgg.classifier.children())[:-1])\n",
    "\n",
    "    def forward(self,x):\n",
    "        x=self.features(x)\n",
    "        x=self.avgpool(x)\n",
    "        x=torch.flatten(x,1)\n",
    "        x=self.classifier(x)\n",
    "        return x"
   ]
  },
  {
   "cell_type": "code",
   "execution_count": null,
   "id": "4604d5dd",
   "metadata": {},
   "outputs": [],
   "source": []
  },
  {
   "cell_type": "code",
   "execution_count": 26,
   "id": "7ee9daab",
   "metadata": {},
   "outputs": [],
   "source": [
    "model=VGGEmbedding()\n",
    "\n",
    "\n",
    "# 1. Freeze all layers first\n",
    "for param in model.parameters():\n",
    "    param.requires_grad = False\n",
    "\n",
    "# 2. Unfreeze the last convolutional block (block 5)\n",
    "# The VGG16 features list has 31 layers. Block 5 starts at index 24.\n",
    "for param in model.features[24:].parameters():\n",
    "    param.requires_grad = True\n",
    "\n",
    "# 3. Unfreeze the classifier and replace the last layer\n",
    "model.classifier[3] = nn.Linear(model.classifier[3].in_features, 256)\n",
    "\n",
    "for param in model.classifier.parameters():\n",
    "    param.requires_grad = True\n",
    "\n",
    "device=torch.device(\"cuda:4\" if torch.cuda.is_available() else \"cpu\")\n",
    "model=model.to(device)\n",
    "\n",
    "trainable_params = filter(lambda p: p.requires_grad, model.parameters())\n",
    "optimizer = optim.Adam(trainable_params, lr=1e-4)\n",
    "loss_fn = nn.CrossEntropyLoss()\n",
    "\n",
    "epochs=20\n"
   ]
  },
  {
   "cell_type": "code",
   "execution_count": 27,
   "id": "697e03ea",
   "metadata": {},
   "outputs": [
    {
     "name": "stdout",
     "output_type": "stream",
     "text": [
      "training on class : [4, 0, 5, 6, 3]\n"
     ]
    }
   ],
   "source": [
    "print(\"training on class :\",train_list)"
   ]
  },
  {
   "cell_type": "code",
   "execution_count": 28,
   "id": "2a9a29ec",
   "metadata": {},
   "outputs": [],
   "source": [
    "import torch\n",
    "import gc\n",
    "\n",
    "gc.collect()  # Python garbage collection\n",
    "torch.cuda.empty_cache()  # Clear cache for current device\n"
   ]
  },
  {
   "cell_type": "code",
   "execution_count": 29,
   "id": "de3857d0",
   "metadata": {},
   "outputs": [
    {
     "name": "stdout",
     "output_type": "stream",
     "text": [
      "Epoch: 1 ------------- Loss= 0.29929415467195214 Acccuracy= 90.68\n",
      "Epoch: 2 ------------- Loss= 0.14786828291020357 Acccuracy= 95.42\n",
      "Epoch: 3 ------------- Loss= 0.08193124571116642 Acccuracy= 97.52\n",
      "Epoch: 4 ------------- Loss= 0.07687108760923365 Acccuracy= 97.8\n",
      "Epoch: 5 ------------- Loss= 0.05796889947519958 Acccuracy= 98.42\n",
      "Epoch: 6 ------------- Loss= 0.05994684105151464 Acccuracy= 98.22\n",
      "Epoch: 7 ------------- Loss= 0.04729942698544619 Acccuracy= 98.68\n",
      "Epoch: 8 ------------- Loss= 0.04017675987739949 Acccuracy= 98.86\n",
      "Epoch: 9 ------------- Loss= 0.04784872583992723 Acccuracy= 98.54\n",
      "Epoch: 10 ------------- Loss= 0.04097835754543667 Acccuracy= 98.9\n",
      "Epoch: 11 ------------- Loss= 0.022028287862233355 Acccuracy= 99.44\n",
      "Epoch: 12 ------------- Loss= 0.031196832424645323 Acccuracy= 99.08\n",
      "Epoch: 13 ------------- Loss= 0.02371047791311355 Acccuracy= 99.5\n",
      "Epoch: 14 ------------- Loss= 0.031867266350013496 Acccuracy= 99.11999999999999\n",
      "Epoch: 15 ------------- Loss= 0.03236773693759213 Acccuracy= 99.2\n",
      "Epoch: 16 ------------- Loss= 0.025888630362192373 Acccuracy= 99.33999999999999\n",
      "Epoch: 17 ------------- Loss= 0.037399974763998284 Acccuracy= 99.06\n",
      "Epoch: 18 ------------- Loss= 0.03859561613946308 Acccuracy= 98.96000000000001\n",
      "Epoch: 19 ------------- Loss= 0.029732045743180606 Acccuracy= 99.16\n",
      "Epoch: 20 ------------- Loss= 0.022614563141227676 Acccuracy= 99.42\n"
     ]
    }
   ],
   "source": [
    "\n",
    "for epoch in range(epochs):\n",
    "    model.train()\n",
    "    total_loss, total_correct, total_queries= 0,0,0\n",
    "\n",
    "    for episode in few_dataloader:\n",
    "        support_images, support_labels, query_images, query_labels=episode\n",
    "        support_images=(support_images.squeeze(0)).to(device, non_blocking=True)\n",
    "        query_images=(query_images.squeeze(0)).to(device, non_blocking=True)\n",
    "        support_labels=(support_labels.view(-1)).to(device, non_blocking=True)\n",
    "        query_labels=(query_labels.view(-1)).to(device, non_blocking=True)\n",
    "\n",
    "        optimizer.zero_grad()\n",
    "        support_embeddings=model(support_images)\n",
    "        query_embeddings=model(query_images)\n",
    "\n",
    "        n_way=torch.unique(support_labels).size(0)\n",
    "        prototypes=compute_prototypes(support_embeddings,support_labels,n_way)\n",
    "        logits=classify_queries(prototypes,query_embeddings)\n",
    "        loss=loss_fn(logits,query_labels)\n",
    "        loss.backward()\n",
    "        optimizer.step()\n",
    "        total_loss+=loss.item()\n",
    "        preds=torch.argmax(logits,dim=1)\n",
    "        total_correct+=(preds==query_labels).sum().item()\n",
    "        total_queries+=query_labels.size(0)\n",
    "    \n",
    "    avg_loss=total_loss/len(few_dataloader)\n",
    "    accuracy=(total_correct/total_queries)*100\n",
    "    print(\"Epoch:\",epoch+1,\"-------------\",\"Loss=\",avg_loss,\"Acccuracy=\",accuracy)"
   ]
  },
  {
   "cell_type": "code",
   "execution_count": 30,
   "id": "f78e1809",
   "metadata": {},
   "outputs": [],
   "source": [
    "test_dataset=create_dataset(\n",
    "    data=test_data,\n",
    "    way=ways,\n",
    "    shot=shots,\n",
    "    query=queries,\n",
    "    episode=200\n",
    ")"
   ]
  },
  {
   "cell_type": "code",
   "execution_count": 31,
   "id": "532fa90c",
   "metadata": {},
   "outputs": [],
   "source": [
    "test_dataloader=DataLoader(\n",
    "    test_dataset,\n",
    "    shuffle=True,\n",
    "    num_workers=8, \n",
    "    pin_memory=True\n",
    ")"
   ]
  },
  {
   "cell_type": "code",
   "execution_count": 32,
   "id": "9236e5eb",
   "metadata": {},
   "outputs": [
    {
     "name": "stdout",
     "output_type": "stream",
     "text": [
      "testing on class : [0, 1, 2, 3, 4, 5, 6, 7, 8, 9]\n"
     ]
    }
   ],
   "source": [
    "print(\"testing on class :\",test_list)"
   ]
  },
  {
   "cell_type": "code",
   "execution_count": 33,
   "id": "27b5c9bd",
   "metadata": {},
   "outputs": [
    {
     "name": "stdout",
     "output_type": "stream",
     "text": [
      "Loss= 0.022614563141227676 Acccuracy on 10 Class = 83.82\n"
     ]
    }
   ],
   "source": [
    "model.eval()\n",
    "total_correct, total_queries= 0,0\n",
    "with torch.no_grad():\n",
    "    for episode in test_dataloader:\n",
    "        support_images, support_labels, query_images, query_labels=episode\n",
    "        support_images=(support_images.squeeze(0)).to(device, non_blocking=True)\n",
    "        query_images=(query_images.squeeze(0)).to(device, non_blocking=True)\n",
    "        support_labels=(support_labels.view(-1)).to(device, non_blocking=True)\n",
    "        query_labels=(query_labels.view(-1)).to(device, non_blocking=True)\n",
    "\n",
    "        support_embeddings=model(support_images)\n",
    "        query_embeddings=model(query_images)\n",
    "\n",
    "        n_way=torch.unique(support_labels).size(0)\n",
    "        prototypes=compute_prototypes(support_embeddings,support_labels,n_way)\n",
    "        logits=classify_queries(prototypes,query_embeddings)\n",
    "        \n",
    "        preds=torch.argmax(logits,dim=1)\n",
    "        total_correct+=(preds==query_labels).sum().item()\n",
    "        total_queries+=query_labels.size(0)\n",
    "    \n",
    "    #avg_loss=total_loss/len(few_dataloader)\n",
    "    accuracy=(total_correct/total_queries)*100\n",
    "    print(\"Loss=\",avg_loss,\"Acccuracy on\", len(test_list),\"Class =\",accuracy)"
   ]
  },
  {
   "cell_type": "code",
   "execution_count": 34,
   "id": "fd745aee",
   "metadata": {},
   "outputs": [],
   "source": [
    "strict_test_dataset=create_dataset(\n",
    "    data=strict_test_data,\n",
    "    way=strict_ways,\n",
    "    shot=shots,\n",
    "    query=queries,\n",
    "    episode=200\n",
    ")"
   ]
  },
  {
   "cell_type": "code",
   "execution_count": 35,
   "id": "96358b4b",
   "metadata": {},
   "outputs": [],
   "source": [
    "strict_test_dataloader=DataLoader(\n",
    "    strict_test_dataset,\n",
    "    #batch_size=1,\n",
    "    shuffle=True,\n",
    "    num_workers=8, \n",
    "    pin_memory=True\n",
    ")"
   ]
  },
  {
   "cell_type": "code",
   "execution_count": 36,
   "id": "a2277cff",
   "metadata": {},
   "outputs": [
    {
     "name": "stdout",
     "output_type": "stream",
     "text": [
      "testing on class : [1, 2, 7, 8, 9]\n"
     ]
    }
   ],
   "source": [
    "print(\"testing on class :\",strict_test_list)"
   ]
  },
  {
   "cell_type": "code",
   "execution_count": 37,
   "id": "f10aba1e",
   "metadata": {},
   "outputs": [
    {
     "name": "stdout",
     "output_type": "stream",
     "text": [
      "Loss= 0.022614563141227676 Acccuracy on 5 Class = 77.42\n"
     ]
    }
   ],
   "source": [
    "model.eval()\n",
    "total_correct, total_queries= 0,0\n",
    "with torch.no_grad():\n",
    "    for episode in strict_test_dataloader:\n",
    "        support_images, support_labels, query_images, query_labels=episode\n",
    "        support_images=(support_images.squeeze(0)).to(device, non_blocking=True)\n",
    "        query_images=(query_images.squeeze(0)).to(device, non_blocking=True)\n",
    "        support_labels=(support_labels.view(-1)).to(device, non_blocking=True)\n",
    "        query_labels=(query_labels.view(-1)).to(device, non_blocking=True)\n",
    "\n",
    "        support_embeddings=model(support_images)\n",
    "        query_embeddings=model(query_images)\n",
    "\n",
    "        n_way=torch.unique(support_labels).size(0)\n",
    "        prototypes=compute_prototypes(support_embeddings,support_labels,n_way)\n",
    "        logits=classify_queries(prototypes,query_embeddings)\n",
    "        \n",
    "        preds=torch.argmax(logits,dim=1)\n",
    "        total_correct+=(preds==query_labels).sum().item()\n",
    "        total_queries+=query_labels.size(0)\n",
    "    \n",
    "    #avg_loss=total_loss/len(few_dataloader)\n",
    "    accuracy=(total_correct/total_queries)*100\n",
    "    print(\"Loss=\",avg_loss,\"Acccuracy on\", len(strict_test_list),\"Class =\",accuracy)"
   ]
  },
  {
   "cell_type": "markdown",
   "id": "1b19bd3f",
   "metadata": {},
   "source": [
    "**Stable Protypical Network**"
   ]
  },
  {
   "cell_type": "code",
   "execution_count": 38,
   "id": "0e16ec90",
   "metadata": {},
   "outputs": [],
   "source": [
    "import torch\n",
    "import gc\n",
    "\n",
    "# Delete all unused objects\n",
    "gc.collect()\n",
    "\n",
    "# Empty PyTorch CUDA cache\n",
    "torch.cuda.empty_cache()"
   ]
  },
  {
   "cell_type": "code",
   "execution_count": 39,
   "id": "ea490bca",
   "metadata": {},
   "outputs": [],
   "source": [
    "from dropblock import DropBlock2D"
   ]
  },
  {
   "cell_type": "code",
   "execution_count": 40,
   "id": "5087d587",
   "metadata": {},
   "outputs": [],
   "source": [
    "from torch.cuda.amp import autocast, GradScaler"
   ]
  },
  {
   "cell_type": "code",
   "execution_count": 41,
   "id": "f421c392",
   "metadata": {},
   "outputs": [
    {
     "data": {
      "application/vnd.jupyter.widget-view+json": {
       "model_id": "a97bb2c4e10e4aea8d25808fb35bb682",
       "version_major": 2,
       "version_minor": 0
      },
      "text/plain": [
       "Epoch 1/20:   0%|          | 0/200 [00:00<?, ?it/s]"
      ]
     },
     "metadata": {},
     "output_type": "display_data"
    },
    {
     "name": "stdout",
     "output_type": "stream",
     "text": [
      "Epoch: 1 ------------- Loss= 3.586097688674927 Acccuracy= 76.0\n"
     ]
    },
    {
     "data": {
      "application/vnd.jupyter.widget-view+json": {
       "model_id": "964f124b818b4d429ab7c015d55e28b3",
       "version_major": 2,
       "version_minor": 0
      },
      "text/plain": [
       "Epoch 2/20:   0%|          | 0/200 [00:00<?, ?it/s]"
      ]
     },
     "metadata": {},
     "output_type": "display_data"
    },
    {
     "name": "stdout",
     "output_type": "stream",
     "text": [
      "Epoch: 2 ------------- Loss= 1.454564656019211 Acccuracy= 91.25999999999999\n"
     ]
    },
    {
     "data": {
      "application/vnd.jupyter.widget-view+json": {
       "model_id": "594cdeff257e460999057ee0977f7097",
       "version_major": 2,
       "version_minor": 0
      },
      "text/plain": [
       "Epoch 3/20:   0%|          | 0/200 [00:00<?, ?it/s]"
      ]
     },
     "metadata": {},
     "output_type": "display_data"
    },
    {
     "name": "stdout",
     "output_type": "stream",
     "text": [
      "Epoch: 3 ------------- Loss= 1.0540155223757028 Acccuracy= 93.52000000000001\n"
     ]
    },
    {
     "data": {
      "application/vnd.jupyter.widget-view+json": {
       "model_id": "873dd39380f94691b4ef2cfe5aa4aadd",
       "version_major": 2,
       "version_minor": 0
      },
      "text/plain": [
       "Epoch 4/20:   0%|          | 0/200 [00:00<?, ?it/s]"
      ]
     },
     "metadata": {},
     "output_type": "display_data"
    },
    {
     "name": "stdout",
     "output_type": "stream",
     "text": [
      "Epoch: 4 ------------- Loss= 0.8546678653359413 Acccuracy= 95.32000000000001\n"
     ]
    },
    {
     "data": {
      "application/vnd.jupyter.widget-view+json": {
       "model_id": "b2c2dc82cd5e4104ae9105c916cb9c65",
       "version_major": 2,
       "version_minor": 0
      },
      "text/plain": [
       "Epoch 5/20:   0%|          | 0/200 [00:00<?, ?it/s]"
      ]
     },
     "metadata": {},
     "output_type": "display_data"
    },
    {
     "name": "stdout",
     "output_type": "stream",
     "text": [
      "Epoch: 5 ------------- Loss= 0.6878129026293754 Acccuracy= 96.28\n"
     ]
    },
    {
     "data": {
      "application/vnd.jupyter.widget-view+json": {
       "model_id": "ee05b0fb546f4cfcadd954aa3ab0a45e",
       "version_major": 2,
       "version_minor": 0
      },
      "text/plain": [
       "Epoch 6/20:   0%|          | 0/200 [00:00<?, ?it/s]"
      ]
     },
     "metadata": {},
     "output_type": "display_data"
    },
    {
     "name": "stdout",
     "output_type": "stream",
     "text": [
      "Epoch: 6 ------------- Loss= 0.6070199292525649 Acccuracy= 96.02000000000001\n"
     ]
    },
    {
     "data": {
      "application/vnd.jupyter.widget-view+json": {
       "model_id": "05296a3e025646df8cf289b9c35cb6b1",
       "version_major": 2,
       "version_minor": 0
      },
      "text/plain": [
       "Epoch 7/20:   0%|          | 0/200 [00:00<?, ?it/s]"
      ]
     },
     "metadata": {},
     "output_type": "display_data"
    },
    {
     "name": "stdout",
     "output_type": "stream",
     "text": [
      "Epoch: 7 ------------- Loss= 0.5497873758152128 Acccuracy= 96.61999999999999\n"
     ]
    },
    {
     "data": {
      "application/vnd.jupyter.widget-view+json": {
       "model_id": "e3b115d124014f0da24cd497df6f913b",
       "version_major": 2,
       "version_minor": 0
      },
      "text/plain": [
       "Epoch 8/20:   0%|          | 0/200 [00:00<?, ?it/s]"
      ]
     },
     "metadata": {},
     "output_type": "display_data"
    },
    {
     "name": "stdout",
     "output_type": "stream",
     "text": [
      "Epoch: 8 ------------- Loss= 0.4416161133442074 Acccuracy= 97.48\n"
     ]
    },
    {
     "data": {
      "application/vnd.jupyter.widget-view+json": {
       "model_id": "3a0efd558555492a858de3b7864c17a7",
       "version_major": 2,
       "version_minor": 0
      },
      "text/plain": [
       "Epoch 9/20:   0%|          | 0/200 [00:00<?, ?it/s]"
      ]
     },
     "metadata": {},
     "output_type": "display_data"
    },
    {
     "name": "stdout",
     "output_type": "stream",
     "text": [
      "Epoch: 9 ------------- Loss= 0.37007173396646975 Acccuracy= 97.76\n"
     ]
    },
    {
     "data": {
      "application/vnd.jupyter.widget-view+json": {
       "model_id": "c3529d58fe7744f0ad6d7674e4d63a5a",
       "version_major": 2,
       "version_minor": 0
      },
      "text/plain": [
       "Epoch 10/20:   0%|          | 0/200 [00:00<?, ?it/s]"
      ]
     },
     "metadata": {},
     "output_type": "display_data"
    },
    {
     "name": "stdout",
     "output_type": "stream",
     "text": [
      "Epoch: 10 ------------- Loss= 0.33121217976789924 Acccuracy= 98.08\n"
     ]
    },
    {
     "data": {
      "application/vnd.jupyter.widget-view+json": {
       "model_id": "2649502989224b6f949f25cece990991",
       "version_major": 2,
       "version_minor": 0
      },
      "text/plain": [
       "Epoch 11/20:   0%|          | 0/200 [00:00<?, ?it/s]"
      ]
     },
     "metadata": {},
     "output_type": "display_data"
    },
    {
     "name": "stdout",
     "output_type": "stream",
     "text": [
      "Epoch: 11 ------------- Loss= 0.2724420973146334 Acccuracy= 98.58\n"
     ]
    },
    {
     "data": {
      "application/vnd.jupyter.widget-view+json": {
       "model_id": "1886ff0492184b638578e0836e718d7e",
       "version_major": 2,
       "version_minor": 0
      },
      "text/plain": [
       "Epoch 12/20:   0%|          | 0/200 [00:00<?, ?it/s]"
      ]
     },
     "metadata": {},
     "output_type": "display_data"
    },
    {
     "name": "stdout",
     "output_type": "stream",
     "text": [
      "Epoch: 12 ------------- Loss= 0.3048247752105817 Acccuracy= 98.38\n"
     ]
    },
    {
     "data": {
      "application/vnd.jupyter.widget-view+json": {
       "model_id": "97f1d80b602e4733b2f071bac5c4e674",
       "version_major": 2,
       "version_minor": 0
      },
      "text/plain": [
       "Epoch 13/20:   0%|          | 0/200 [00:00<?, ?it/s]"
      ]
     },
     "metadata": {},
     "output_type": "display_data"
    },
    {
     "name": "stdout",
     "output_type": "stream",
     "text": [
      "Epoch: 13 ------------- Loss= 0.2738630827143788 Acccuracy= 98.02\n"
     ]
    },
    {
     "data": {
      "application/vnd.jupyter.widget-view+json": {
       "model_id": "64495ef0d6f94540bb7eda4152654bb4",
       "version_major": 2,
       "version_minor": 0
      },
      "text/plain": [
       "Epoch 14/20:   0%|          | 0/200 [00:00<?, ?it/s]"
      ]
     },
     "metadata": {},
     "output_type": "display_data"
    },
    {
     "name": "stdout",
     "output_type": "stream",
     "text": [
      "Epoch: 14 ------------- Loss= 0.23802502743899823 Acccuracy= 98.36\n"
     ]
    },
    {
     "data": {
      "application/vnd.jupyter.widget-view+json": {
       "model_id": "71df0b191b984b149564fb939afe4486",
       "version_major": 2,
       "version_minor": 0
      },
      "text/plain": [
       "Epoch 15/20:   0%|          | 0/200 [00:00<?, ?it/s]"
      ]
     },
     "metadata": {},
     "output_type": "display_data"
    },
    {
     "name": "stdout",
     "output_type": "stream",
     "text": [
      "Epoch: 15 ------------- Loss= 0.1963330495392438 Acccuracy= 98.92\n"
     ]
    },
    {
     "data": {
      "application/vnd.jupyter.widget-view+json": {
       "model_id": "312a1e3840bc41eeb5ee39514975b476",
       "version_major": 2,
       "version_minor": 0
      },
      "text/plain": [
       "Epoch 16/20:   0%|          | 0/200 [00:00<?, ?it/s]"
      ]
     },
     "metadata": {},
     "output_type": "display_data"
    },
    {
     "name": "stdout",
     "output_type": "stream",
     "text": [
      "Epoch: 16 ------------- Loss= 0.18805735730566084 Acccuracy= 99.08\n"
     ]
    },
    {
     "data": {
      "application/vnd.jupyter.widget-view+json": {
       "model_id": "393f8fbedbda4184845113af0f8dd40e",
       "version_major": 2,
       "version_minor": 0
      },
      "text/plain": [
       "Epoch 17/20:   0%|          | 0/200 [00:00<?, ?it/s]"
      ]
     },
     "metadata": {},
     "output_type": "display_data"
    },
    {
     "name": "stdout",
     "output_type": "stream",
     "text": [
      "Epoch: 17 ------------- Loss= 0.17473782462999224 Acccuracy= 98.96000000000001\n"
     ]
    },
    {
     "data": {
      "application/vnd.jupyter.widget-view+json": {
       "model_id": "59383da6ad2746d881340a3eb6d6e077",
       "version_major": 2,
       "version_minor": 0
      },
      "text/plain": [
       "Epoch 18/20:   0%|          | 0/200 [00:00<?, ?it/s]"
      ]
     },
     "metadata": {},
     "output_type": "display_data"
    },
    {
     "name": "stdout",
     "output_type": "stream",
     "text": [
      "Epoch: 18 ------------- Loss= 0.15203390850685536 Acccuracy= 99.14\n"
     ]
    },
    {
     "data": {
      "application/vnd.jupyter.widget-view+json": {
       "model_id": "8011237e782d4a5ca279218f2e72ea44",
       "version_major": 2,
       "version_minor": 0
      },
      "text/plain": [
       "Epoch 19/20:   0%|          | 0/200 [00:00<?, ?it/s]"
      ]
     },
     "metadata": {},
     "output_type": "display_data"
    },
    {
     "name": "stdout",
     "output_type": "stream",
     "text": [
      "Epoch: 19 ------------- Loss= 0.13607119177642743 Acccuracy= 99.3\n"
     ]
    },
    {
     "data": {
      "application/vnd.jupyter.widget-view+json": {
       "model_id": "4bdfe8034b48471ba81eb922ceb44a08",
       "version_major": 2,
       "version_minor": 0
      },
      "text/plain": [
       "Epoch 20/20:   0%|          | 0/200 [00:00<?, ?it/s]"
      ]
     },
     "metadata": {},
     "output_type": "display_data"
    },
    {
     "name": "stdout",
     "output_type": "stream",
     "text": [
      "Epoch: 20 ------------- Loss= 0.12312973347259686 Acccuracy= 99.3\n",
      "Testing........... Started.......................\n",
      "Loss= 0.12312973347259686 Acccuracy on 10 Class = 87.92\n",
      "Mean Predictive Entropy = 0.3366800546646118\n"
     ]
    }
   ],
   "source": [
    "import torchvision.models as models\n",
    "vgg=models.vgg16(pretrained=True)\n",
    "class VGGEmbedding(nn.Module):\n",
    "    def __init__(self,drop_prob=0.3, block_size=5):\n",
    "        super().__init__()\n",
    "\n",
    "\n",
    "        ##Code from the paper\n",
    "        features_list = list(vgg.features.children())\n",
    "        # Insert DropBlock after MaxPool at index 16\n",
    "        features_list.insert(17, DropBlock2D(block_size=block_size, drop_prob=drop_prob))\n",
    "        # Insert DropBlock after MaxPool at index 23 (now 24 due to previous insertion)\n",
    "        features_list.insert(24, DropBlock2D(block_size=block_size, drop_prob=drop_prob))\n",
    "        ##END\n",
    "\n",
    "\n",
    "        self.features=nn.Sequential(*features_list)\n",
    "        self.avgpool=vgg.avgpool\n",
    "\n",
    "        self.classifier=nn.Sequential(*list(vgg.classifier.children())[:-1])\n",
    "\n",
    "    def forward(self,x):\n",
    "        x=self.features(x)\n",
    "        x=self.avgpool(x)\n",
    "        x=torch.flatten(x,1)\n",
    "        x=self.classifier(x)\n",
    "        return x\n",
    "\n",
    "model=VGGEmbedding()\n",
    "\n",
    "for param in model.parameters():\n",
    "    param.requires_grad = False\n",
    "\n",
    "for layer in model.features[26:]: # Layers from the original Block 5 onwards\n",
    "    # Check if the layer has parameters (e.g., Conv2d does, MaxPool2d doesn't)\n",
    "    if hasattr(layer, 'parameters'):\n",
    "        for param in layer.parameters():\n",
    "            param.requires_grad = True\n",
    "\n",
    "# 3. Unfreeze the classifier and ensure the final layer is replaced\n",
    "model.classifier[3] = nn.Linear(model.classifier[3].in_features, 256)\n",
    "for param in model.classifier.parameters():\n",
    "    param.requires_grad = True\n",
    "\n",
    "# 4. Set up optimizer with ONLY the trainable parameters\n",
    "device = torch.device(\"cuda:4\" if torch.cuda.is_available() else \"cpu\")\n",
    "model = model.to(device)\n",
    "\n",
    "trainable_params = filter(lambda p: p.requires_grad, model.parameters())\n",
    "optimizer = optim.Adam(trainable_params, lr=1e-5) # Use a smaller LR for fine-tuning\n",
    "loss_fn = nn.CrossEntropyLoss()\n",
    "\n",
    "\n",
    "epochs=20\n",
    "\n",
    "#From code for SPN\n",
    "n_times=5\n",
    "alpha=1.0\n",
    "\n",
    "for epoch in range(epochs):\n",
    "    model.train()\n",
    "    total_loss, total_correct, total_queries= 0,0,0\n",
    "\n",
    "    from tqdm.notebook import tqdm\n",
    "    progress_bar=tqdm(few_dataloader, desc=f\"Epoch {epoch+1}/{epochs}\",leave=False)\n",
    "\n",
    "\n",
    "    for episode in progress_bar:\n",
    "        support_images, support_labels, query_images, query_labels=episode\n",
    "        support_images=(support_images.squeeze(0)).to(device, non_blocking=True)\n",
    "        query_images=(query_images.squeeze(0)).to(device, non_blocking=True)\n",
    "        support_labels=(support_labels.view(-1)).to(device, non_blocking=True)\n",
    "        query_labels=(query_labels.view(-1)).to(device, non_blocking=True)\n",
    "\n",
    "\n",
    "        optimizer.zero_grad(set_to_none=True)\n",
    "        #For montecarlopass\n",
    "        \n",
    "        all_ce_losses = []\n",
    "        all_query_logits = []\n",
    "\n",
    "        for _ in range(n_times):\n",
    "            support_embeddings=model(support_images)\n",
    "            query_embeddings=model(query_images)\n",
    "\n",
    "            n_way=torch.unique(support_labels).size(0)\n",
    "            prototypes=compute_prototypes(support_embeddings,support_labels,n_way)\n",
    "            logits=classify_queries(prototypes,query_embeddings)\n",
    "\n",
    "            ce_loss=loss_fn(logits,query_labels)\n",
    "            all_ce_losses.append(ce_loss)\n",
    "            all_query_logits.append(logits)\n",
    "            \n",
    "        total_ce_loss= torch.stack(all_ce_losses).sum()\n",
    "\n",
    "        stacked_logits=torch.stack(all_query_logits)\n",
    "        stacked_probs=torch.softmax(stacked_logits,dim=-1)\n",
    "\n",
    "        true_class_probs = stacked_probs[\n",
    "            torch.arange(n_times)[:, None],\n",
    "            torch.arange(len(query_labels)),\n",
    "            query_labels\n",
    "        ]\n",
    "            \n",
    "        variance_loss=torch.std(true_class_probs,dim=0).mean()\n",
    "        total_combined_loss=total_ce_loss+alpha*variance_loss\n",
    "\n",
    "        \n",
    "\n",
    "        \n",
    "        total_combined_loss.backward()\n",
    "        optimizer.step()\n",
    "\n",
    "        mean_logits=stacked_logits.mean(dim=0)\n",
    "        total_loss+=total_combined_loss.item()\n",
    "        preds=torch.argmax(logits,dim=1)\n",
    "        total_correct+=(preds==query_labels).sum().item()\n",
    "        total_queries+=query_labels.size(0)\n",
    "\n",
    "        avg_acc_till=(total_correct/total_queries)*100\n",
    "        progress_bar.set_postfix(Loss=f\"{total_combined_loss.item():4f}\",Acc=f\"{avg_acc_till}&\")\n",
    "    \n",
    "    avg_loss=total_loss/len(few_dataloader)\n",
    "    accuracy=(total_correct/total_queries)*100\n",
    "    print(\"Epoch:\",epoch+1,\"-------------\",\"Loss=\",avg_loss,\"Acccuracy=\",accuracy)\n",
    "\n",
    "print(\"Testing........... Started.......................\")\n",
    "\n",
    "model.eval()\n",
    "total_correct, total_queries= 0,0\n",
    "with torch.no_grad():\n",
    "    for episode in test_dataloader:\n",
    "        support_images, support_labels, query_images, query_labels=episode\n",
    "        support_images=(support_images.squeeze(0)).to(device, non_blocking=True)\n",
    "        query_images=(query_images.squeeze(0)).to(device, non_blocking=True)\n",
    "        support_labels=(support_labels.view(-1)).to(device, non_blocking=True)\n",
    "        query_labels=(query_labels.view(-1)).to(device, non_blocking=True)\n",
    "\n",
    "        stacked_logits=[]\n",
    "\n",
    "\n",
    "\n",
    "        model.train()\n",
    "        for _ in range(n_times):\n",
    "\n",
    "            support_embeddings=model(support_images)\n",
    "            query_embeddings=model(query_images)\n",
    "\n",
    "            n_way=torch.unique(support_labels).size(0)\n",
    "            prototypes=compute_prototypes(support_embeddings,support_labels,n_way)\n",
    "            logits=classify_queries(prototypes,query_embeddings)\n",
    "\n",
    "            stacked_logits.append(logits)\n",
    "        \n",
    "        model.eval()\n",
    "        mean_logits=torch.stack(stacked_logits).mean(dim=0)\n",
    "        preds=torch.argmax(mean_logits,dim=1)\n",
    "        total_correct+=(preds==query_labels).sum().item()\n",
    "        total_queries+=query_labels.size(0)\n",
    "\n",
    "        torch.cuda.empty_cache()\n",
    "    \n",
    "    #avg_loss=total_loss/len(few_dataloader)\n",
    "    accuracy=(total_correct/total_queries)*100\n",
    "    print(\"Loss=\",avg_loss,\"Acccuracy on\", len(test_list),\"Class =\",accuracy)\n",
    "\n",
    "\n",
    "    entropy = -(torch.softmax(mean_logits, dim=1) * torch.log_softmax(mean_logits, dim=1)).sum(dim=1).mean()\n",
    "    print(\"Mean Predictive Entropy =\", entropy.item())\n"
   ]
  },
  {
   "cell_type": "code",
   "execution_count": 42,
   "id": "025823f6",
   "metadata": {},
   "outputs": [
    {
     "name": "stdout",
     "output_type": "stream",
     "text": [
      "Loss= 0.12312973347259686 Acccuracy on 5 Class = 82.86\n",
      "Mean Predictive Entropy = 0.5733183026313782\n"
     ]
    }
   ],
   "source": [
    "model.eval()\n",
    "total_correct, total_queries= 0,0\n",
    "with torch.no_grad():\n",
    "    for episode in strict_test_dataloader:\n",
    "        support_images, support_labels, query_images, query_labels=episode\n",
    "        support_images=(support_images.squeeze(0)).to(device, non_blocking=True)\n",
    "        query_images=(query_images.squeeze(0)).to(device, non_blocking=True)\n",
    "        support_labels=(support_labels.view(-1)).to(device, non_blocking=True)\n",
    "        query_labels=(query_labels.view(-1)).to(device, non_blocking=True)\n",
    "\n",
    "        stacked_logits=[]\n",
    "\n",
    "\n",
    "\n",
    "        model.train()\n",
    "        for _ in range(n_times):\n",
    "\n",
    "            support_embeddings=model(support_images)\n",
    "            query_embeddings=model(query_images)\n",
    "\n",
    "            n_way=torch.unique(support_labels).size(0)\n",
    "            prototypes=compute_prototypes(support_embeddings,support_labels,n_way)\n",
    "            logits=classify_queries(prototypes,query_embeddings)\n",
    "\n",
    "            stacked_logits.append(logits)\n",
    "        \n",
    "        model.eval()\n",
    "        mean_logits=torch.stack(stacked_logits).mean(dim=0)\n",
    "        preds=torch.argmax(mean_logits,dim=1)\n",
    "        total_correct+=(preds==query_labels).sum().item()\n",
    "        total_queries+=query_labels.size(0)\n",
    "\n",
    "        torch.cuda.empty_cache()\n",
    "    \n",
    "    #avg_loss=total_loss/len(few_dataloader)\n",
    "    accuracy=(total_correct/total_queries)*100\n",
    "    print(\"Loss=\",avg_loss,\"Acccuracy on\", len(strict_test_list),\"Class =\",accuracy)\n",
    "\n",
    "\n",
    "    entropy = -(torch.softmax(mean_logits, dim=1) * torch.log_softmax(mean_logits, dim=1)).sum(dim=1).mean()\n",
    "    print(\"Mean Predictive Entropy =\", entropy.item())\n"
   ]
  },
  {
   "cell_type": "code",
   "execution_count": null,
   "id": "3e3f1d43",
   "metadata": {},
   "outputs": [],
   "source": []
  },
  {
   "cell_type": "code",
   "execution_count": null,
   "id": "edc7d380",
   "metadata": {},
   "outputs": [],
   "source": [
    "\n"
   ]
  },
  {
   "cell_type": "code",
   "execution_count": null,
   "id": "c20908d8",
   "metadata": {},
   "outputs": [],
   "source": []
  },
  {
   "cell_type": "code",
   "execution_count": null,
   "id": "80c65b92",
   "metadata": {},
   "outputs": [],
   "source": []
  },
  {
   "cell_type": "code",
   "execution_count": null,
   "id": "5a3a9fc3",
   "metadata": {},
   "outputs": [],
   "source": []
  },
  {
   "cell_type": "code",
   "execution_count": null,
   "id": "51b1fce6",
   "metadata": {},
   "outputs": [],
   "source": []
  },
  {
   "cell_type": "code",
   "execution_count": null,
   "id": "02dcb43a",
   "metadata": {},
   "outputs": [],
   "source": []
  },
  {
   "cell_type": "code",
   "execution_count": null,
   "id": "ae261156",
   "metadata": {},
   "outputs": [],
   "source": []
  },
  {
   "cell_type": "code",
   "execution_count": null,
   "id": "d9af431e",
   "metadata": {},
   "outputs": [],
   "source": []
  },
  {
   "cell_type": "code",
   "execution_count": null,
   "id": "4455ffaa",
   "metadata": {},
   "outputs": [],
   "source": []
  },
  {
   "cell_type": "code",
   "execution_count": null,
   "id": "d9ca37b1",
   "metadata": {},
   "outputs": [],
   "source": []
  },
  {
   "cell_type": "code",
   "execution_count": null,
   "id": "65100f67",
   "metadata": {},
   "outputs": [],
   "source": []
  },
  {
   "cell_type": "code",
   "execution_count": null,
   "id": "615226d4",
   "metadata": {},
   "outputs": [],
   "source": []
  },
  {
   "cell_type": "code",
   "execution_count": null,
   "id": "fdc317b8",
   "metadata": {},
   "outputs": [],
   "source": []
  },
  {
   "cell_type": "code",
   "execution_count": null,
   "id": "88d0e3a4",
   "metadata": {},
   "outputs": [],
   "source": []
  }
 ],
 "metadata": {
  "kernelspec": {
   "display_name": "Python 3",
   "language": "python",
   "name": "python3"
  },
  "language_info": {
   "codemirror_mode": {
    "name": "ipython",
    "version": 3
   },
   "file_extension": ".py",
   "mimetype": "text/x-python",
   "name": "python",
   "nbconvert_exporter": "python",
   "pygments_lexer": "ipython3",
   "version": "3.6.8"
  }
 },
 "nbformat": 4,
 "nbformat_minor": 5
}
